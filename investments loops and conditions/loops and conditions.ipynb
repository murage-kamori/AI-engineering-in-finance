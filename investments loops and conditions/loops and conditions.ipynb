{
 "cells": [
  {
   "cell_type": "code",
   "execution_count": 2,
   "id": "06571737",
   "metadata": {},
   "outputs": [
    {
     "name": "stdout",
     "output_type": "stream",
     "text": [
      "Starting investment: 1000 Euros\n",
      "Goal: 2000 Euros\n",
      "Interest rate: 4.0%\n"
     ]
    }
   ],
   "source": [
    "# Given Data Setup\n",
    "initial= 1000\n",
    "goal= 2000\n",
    "rate= 0.04\n",
    "years=0\n",
    "current=initial\n",
    "\n",
    "# Print starting point\n",
    "print(f\"Starting investment: {initial} Euros\")\n",
    "print(f\"Goal: {goal} Euros\")\n",
    "print(f\"Interest rate: {rate * 100}%\")\n"
   ]
  },
  {
   "cell_type": "code",
   "execution_count": 3,
   "id": "dad28790",
   "metadata": {},
   "outputs": [
    {
     "name": "stdout",
     "output_type": "stream",
     "text": [
      "After year 1: 1040.00 Euros\n",
      "After year 2: 1081.60 Euros\n",
      "After year 3: 1124.86 Euros\n",
      "After year 4: 1169.86 Euros\n",
      "After year 5: 1216.65 Euros\n",
      "After year 6: 1265.32 Euros\n",
      "After year 7: 1315.93 Euros\n",
      "After year 8: 1368.57 Euros\n",
      "After year 9: 1423.31 Euros\n",
      "After year 10: 1480.24 Euros\n",
      "After year 11: 1539.45 Euros\n",
      "After year 12: 1601.03 Euros\n",
      "After year 13: 1665.07 Euros\n",
      "After year 14: 1731.68 Euros\n",
      "After year 15: 1800.94 Euros\n",
      "After year 16: 1872.98 Euros\n",
      "After year 17: 1947.90 Euros\n",
      "After year 18: 2025.82 Euros\n"
     ]
    }
   ],
   "source": [
    "# While loop\n",
    "while current < goal:\n",
    "    years += 1  \n",
    "    current = current * (1 + rate)  \n",
    "    print(f\"After year {years}: {current:.2f} Euros\")  "
   ]
  },
  {
   "cell_type": "code",
   "execution_count": 4,
   "id": "72c75b2c",
   "metadata": {},
   "outputs": [
    {
     "name": "stdout",
     "output_type": "stream",
     "text": [
      "\n",
      "It takes 18 years to reach or exceed 2000 Euros.\n",
      "Final amount: 2025.82 Euros\n"
     ]
    }
   ],
   "source": [
    "# Final result\n",
    "print(f\"\\nIt takes {years} years to reach or exceed {goal} Euros.\")\n",
    "print(f\"Final amount: {current:.2f} Euros\")\n"
   ]
  },
  {
   "cell_type": "code",
   "execution_count": 13,
   "id": "1ea16d2e",
   "metadata": {},
   "outputs": [
    {
     "name": "stdout",
     "output_type": "stream",
     "text": [
      "  -> Hit halfway mark after year 10!\n",
      "After year 10: 2158.92 Euros\n"
     ]
    }
   ],
   "source": [
    "    # If condition: Check if we're halfway to the goal\n",
    "if current >= (goal / 2):  \n",
    "        print(f\"  -> Hit halfway mark after year {years}!\")\n",
    "    \n",
    "print(f\"After year {years}: {current:.2f} Euros\")"
   ]
  },
  {
   "cell_type": "code",
   "execution_count": null,
   "id": "8888130a",
   "metadata": {},
   "outputs": [
    {
     "name": "stdout",
     "output_type": "stream",
     "text": [
      "Comparing years to reach goal for different rates:\n",
      "\n",
      "At 2% interest: 36 years (final: 2039.89 Euros)\n",
      "At 3% interest: 24 years (final: 2032.79 Euros)\n",
      "At 4% interest: 18 years (final: 2025.82 Euros)\n",
      "At 5% interest: 15 years (final: 2078.93 Euros)\n",
      "At 6% interest: 12 years (final: 2012.20 Euros)\n",
      "At 7% interest: 11 years (final: 2104.85 Euros)\n",
      "At 8% interest: 10 years (final: 2158.92 Euros)\n",
      "\n",
      "Observation: Higher rates shorten the timeline significantly!\n"
     ]
    }
   ],
   "source": [
    "# Initial setup \n",
    "initial = 1000\n",
    "goal = 2000\n",
    "\n",
    "# For loop: Experiment with rates from 2% to 8% in 1% steps\n",
    "print(\"Comparing years to reach goal for different rates:\\n\")\n",
    "for rate_percent in range(2, 9):  \n",
    "    rate = rate_percent / 100  \n",
    "    years = 0\n",
    "    current = initial\n",
    "    \n",
    "    # Nested while loop: Simulate growth for this rate\n",
    "    while current < goal:\n",
    "        years += 1\n",
    "        current = current * (1 + rate)\n",
    "    \n",
    "    print(f\"At {rate_percent}% interest: {years} years (final: {current:.2f} Euros)\")\n",
    "\n",
    "print(\"\\nObservation: Higher rates shorten the timeline significantly!\")\n"
   ]
  }
 ],
 "metadata": {
  "kernelspec": {
   "display_name": "Python 3",
   "language": "python",
   "name": "python3"
  },
  "language_info": {
   "codemirror_mode": {
    "name": "ipython",
    "version": 3
   },
   "file_extension": ".py",
   "mimetype": "text/x-python",
   "name": "python",
   "nbconvert_exporter": "python",
   "pygments_lexer": "ipython3",
   "version": "3.13.7"
  }
 },
 "nbformat": 4,
 "nbformat_minor": 5
}
