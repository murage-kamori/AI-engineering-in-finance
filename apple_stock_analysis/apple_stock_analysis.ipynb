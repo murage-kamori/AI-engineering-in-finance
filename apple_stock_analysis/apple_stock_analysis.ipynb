{
 "cells": [
  {
   "cell_type": "code",
   "execution_count": 1,
   "id": "8a9d9406",
   "metadata": {},
   "outputs": [],
   "source": [
    "# Stocks bought and prices\n",
    "stocks_first = 20\n",
    "price_first = 60\n",
    "stocks_second = 10\n",
    "price_second = 145"
   ]
  },
  {
   "cell_type": "code",
   "execution_count": 2,
   "id": "7a023317",
   "metadata": {},
   "outputs": [],
   "source": [
    "# Stocks sold and price\n",
    "stocks_sold = 8\n",
    "price_sold = 120"
   ]
  },
  {
   "cell_type": "code",
   "execution_count": 3,
   "id": "6fbf3e6e",
   "metadata": {},
   "outputs": [],
   "source": [
    "# Current price\n",
    "current_price = 135"
   ]
  },
  {
   "cell_type": "code",
   "execution_count": 10,
   "id": "1d8558b3",
   "metadata": {},
   "outputs": [
    {
     "name": "stdout",
     "output_type": "stream",
     "text": [
      "Cost basis of sold stocks: 480\n"
     ]
    }
   ],
   "source": [
    "# Calculate cost basis of sold stocks (FIFO)\n",
    "cost_sold = stocks_sold * price_first  # sold from first batch\n",
    "print(\"Cost basis of sold stocks:\", cost_sold)"
   ]
  },
  {
   "cell_type": "code",
   "execution_count": 9,
   "id": "e98fa957",
   "metadata": {},
   "outputs": [
    {
     "name": "stdout",
     "output_type": "stream",
     "text": [
      "Proceeds from sold stocks: 960\n"
     ]
    }
   ],
   "source": [
    "# Calculate proceeds from sold stocks\n",
    "proceeds_sold = stocks_sold * price_sold\n",
    "print(\"Proceeds from sold stocks:\", proceeds_sold)          "
   ]
  },
  {
   "cell_type": "code",
   "execution_count": 7,
   "id": "f5d72b38",
   "metadata": {},
   "outputs": [
    {
     "name": "stdout",
     "output_type": "stream",
     "text": [
      "Realized gain on sold stocks: 480\n"
     ]
    }
   ],
   "source": [
    "# Realized gain on sold stocks\n",
    "realized_gain = proceeds_sold - cost_sold\n",
    "print(\"Realized gain on sold stocks:\", realized_gain)\n"
   ]
  },
  {
   "cell_type": "code",
   "execution_count": 11,
   "id": "5d8a22a5",
   "metadata": {},
   "outputs": [
    {
     "name": "stdout",
     "output_type": "stream",
     "text": [
      "Remaining stocks from first batch: 12\n",
      "Remaining stocks from second batch: 10\n"
     ]
    }
   ],
   "source": [
    "# Remaining stocks\n",
    "remaining_first = stocks_first - stocks_sold\n",
    "remaining_second = stocks_second\n",
    "print(\"Remaining stocks from first batch:\", remaining_first)\n",
    "print(\"Remaining stocks from second batch:\", remaining_second)\n"
   ]
  },
  {
   "cell_type": "code",
   "execution_count": 12,
   "id": "551d921c",
   "metadata": {},
   "outputs": [
    {
     "name": "stdout",
     "output_type": "stream",
     "text": [
      "Cost basis of remaining stocks: 2170\n"
     ]
    }
   ],
   "source": [
    "# Cost basis of remaining stocks\n",
    "cost_remaining = remaining_first * price_first + remaining_second * price_second\n",
    "print(\"Cost basis of remaining stocks:\", cost_remaining)\n"
   ]
  },
  {
   "cell_type": "code",
   "execution_count": 13,
   "id": "f57c33d9",
   "metadata": {},
   "outputs": [
    {
     "name": "stdout",
     "output_type": "stream",
     "text": [
      "Current value of remaining stocks: 2970\n"
     ]
    }
   ],
   "source": [
    "# Current value of remaining stocks\n",
    "value_remaining = (remaining_first + remaining_second) * current_price\n",
    "print(\"Current value of remaining stocks:\", value_remaining)\n"
   ]
  },
  {
   "cell_type": "code",
   "execution_count": 15,
   "id": "66c06929",
   "metadata": {},
   "outputs": [
    {
     "name": "stdout",
     "output_type": "stream",
     "text": [
      "Unrealized gain on remaining stocks: 800\n"
     ]
    }
   ],
   "source": [
    "# Unrealized gain on remaining stocks\n",
    "unrealized_gain = value_remaining - cost_remaining\n",
    "print(\"Unrealized gain on remaining stocks:\", unrealized_gain)"
   ]
  },
  {
   "cell_type": "code",
   "execution_count": null,
   "id": "9de65a76",
   "metadata": {},
   "outputs": [
    {
     "name": "stdout",
     "output_type": "stream",
     "text": [
      "Total capital gain if John sells all remaining stocks now: $1280.00\n"
     ]
    }
   ],
   "source": [
    "# Total capital gain\n",
    "total_gain = realized_gain + unrealized_gain\n",
    "print(f\"Total capital gain if John sells all remaining stocks now: ${total_gain:.2f}\")"
   ]
  }
 ],
 "metadata": {
  "kernelspec": {
   "display_name": "Python 3",
   "language": "python",
   "name": "python3"
  },
  "language_info": {
   "codemirror_mode": {
    "name": "ipython",
    "version": 3
   },
   "file_extension": ".py",
   "mimetype": "text/x-python",
   "name": "python",
   "nbconvert_exporter": "python",
   "pygments_lexer": "ipython3",
   "version": "3.13.7"
  }
 },
 "nbformat": 4,
 "nbformat_minor": 5
}
