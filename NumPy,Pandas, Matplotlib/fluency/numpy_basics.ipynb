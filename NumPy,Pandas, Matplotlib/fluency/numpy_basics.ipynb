{
 "cells": [
  {
   "cell_type": "code",
   "execution_count": null,
   "id": "0f9154df",
   "metadata": {},
   "outputs": [],
   "source": [
    "#access numpy and np for convenience\n",
    "import numpy as np"
   ]
  },
  {
   "cell_type": "code",
   "execution_count": 2,
   "id": "36dfcedc",
   "metadata": {},
   "outputs": [],
   "source": [
    "#create arrays-grid of numbers\n",
    "a = np.array([1, 2, 3])"
   ]
  },
  {
   "cell_type": "code",
   "execution_count": 3,
   "id": "dc44e0fc",
   "metadata": {},
   "outputs": [],
   "source": [
    "#multidimensional array\n",
    "b = np.array([[1, 2, 3], [4, 5, 6]])\n"
   ]
  },
  {
   "cell_type": "code",
   "execution_count": null,
   "id": "e9901da6",
   "metadata": {},
   "outputs": [
    {
     "data": {
      "text/plain": [
       "array([0.  , 0.25, 0.5 , 0.75, 1.  ])"
      ]
     },
     "execution_count": 4,
     "metadata": {},
     "output_type": "execute_result"
    }
   ],
   "source": [
    "#generators- auto create arrays with specific patterns/values\n",
    "np.zeros((2, 3))  \n",
    "np.ones((3,))\n",
    "np.arange(0,10,2)\n",
    "np.linspace(0,1,5)\n"
   ]
  },
  {
   "cell_type": "code",
   "execution_count": null,
   "id": "34bd6e9b",
   "metadata": {},
   "outputs": [],
   "source": [
    "#inspect arrays-understand shape and structure of arrays\n",
    "a.shape #3 elements in 1d rows & columns\n",
    "a.ndim #1 dimension number of dimensions\n",
    "a.size #total number of elements\n",
    "a.dtype #data type of elements in array\n"
   ]
  },
  {
   "cell_type": "code",
   "execution_count": null,
   "id": "44c31470",
   "metadata": {},
   "outputs": [
    {
     "data": {
      "text/plain": [
       "array([20, 30, 40])"
      ]
     },
     "execution_count": 5,
     "metadata": {},
     "output_type": "execute_result"
    }
   ],
   "source": [
    "#1D indexing(single element) and slicing(a range)-grab parts \n",
    "a=np.array([10, 20, 30, 40, 50])\n",
    "a[0]  #first element-10\n",
    "a[-1] #last element-50\n",
    "a[1:4] #slice from index 1 to 3 (4 is excluded)-[20,30,40]\n",
    "\n",
    "#2D\n",
    "b=np.array([[1,2,],[3,4,],[5,6,]])\n",
    "b[0,1] #row 0, column 1\n",
    "b[:,0] #all rows, column 0"
   ]
  },
  {
   "cell_type": "code",
   "execution_count": null,
   "id": "81d4e6c1",
   "metadata": {},
   "outputs": [],
   "source": [
    "#array math\n",
    "x=np.array([1,2,3])\n",
    "y=np.array([4,5,6])\n",
    "x+y       #[5,7,9]element-wise addition\n",
    "x*y       #[4,10,18]element-wise multiplication\n",
    "np.sqrt(x) #[1.0,1.414,1.732]element-wise square root\n",
    "np.su(x)  #6 sum of all elements\n",
    "np.mean(x) #2.0 mean of all elements"
   ]
  },
  {
   "cell_type": "code",
   "execution_count": null,
   "id": "ac29928b",
   "metadata": {},
   "outputs": [
    {
     "data": {
      "text/plain": [
       "array([0.01739081, 0.01469357, 0.0252588 , 0.01947423, 0.01639828])"
      ]
     },
     "execution_count": 6,
     "metadata": {},
     "output_type": "execute_result"
    }
   ],
   "source": [
    "#simulate returns\n",
    "returns = np.random.normal(loc=0.001, scale=0.02,size=(30,5))\n",
    "#np.randm.normal-generates random numbers from normal distribution\n",
    "#loc-mean of distribution(0.1%)\n",
    "#scale-standard deviation of distribution-volatility(2%)\n",
    "#size-shape of  array(30 days, 5 assets)\n",
    "\n",
    "np.mean(returns, axis=0) #mean return for each asset over 30 days\n",
    "np.std(returns, axis=0)  #std dev for each asset over 30 days\n",
    "\n",
    "#axis=0-calculate across rows for each column\n",
    "#np.std- standard deviation"
   ]
  }
 ],
 "metadata": {
  "kernelspec": {
   "display_name": "Python 3",
   "language": "python",
   "name": "python3"
  },
  "language_info": {
   "codemirror_mode": {
    "name": "ipython",
    "version": 3
   },
   "file_extension": ".py",
   "mimetype": "text/x-python",
   "name": "python",
   "nbconvert_exporter": "python",
   "pygments_lexer": "ipython3",
   "version": "3.13.7"
  }
 },
 "nbformat": 4,
 "nbformat_minor": 5
}
