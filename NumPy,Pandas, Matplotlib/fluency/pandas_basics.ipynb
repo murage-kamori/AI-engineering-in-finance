{
 "cells": [
  {
   "cell_type": "code",
   "execution_count": null,
   "id": "56a8767f",
   "metadata": {},
   "outputs": [],
   "source": [
    "#access pandas and give shortcut\n",
    "import pandas as pandas"
   ]
  },
  {
   "cell_type": "code",
   "execution_count": null,
   "id": "a312ed8a",
   "metadata": {},
   "outputs": [],
   "source": [
    "#ceate series-labelled column of data\n",
    "s=pd.Series([100,200,300]),index = ['Jan','Feb','Mar'])\n",
    "print(s)"
   ]
  }
 ],
 "metadata": {
  "kernelspec": {
   "display_name": "Python 3",
   "language": "python",
   "name": "python3"
  },
  "language_info": {
   "codemirror_mode": {
    "name": "ipython",
    "version": 3
   },
   "file_extension": ".py",
   "mimetype": "text/x-python",
   "name": "python",
   "nbconvert_exporter": "python",
   "pygments_lexer": "ipython3",
   "version": "3.13.7"
  }
 },
 "nbformat": 4,
 "nbformat_minor": 5
}
