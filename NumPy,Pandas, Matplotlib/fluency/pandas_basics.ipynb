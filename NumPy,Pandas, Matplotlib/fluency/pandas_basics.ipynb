{
 "cells": [
  {
   "cell_type": "code",
   "execution_count": 1,
   "id": "56a8767f",
   "metadata": {},
   "outputs": [],
   "source": [
    "#access pandas and give shortcut\n",
    "import pandas as pd\n"
   ]
  },
  {
   "cell_type": "code",
   "execution_count": null,
   "id": "a312ed8a",
   "metadata": {},
   "outputs": [
    {
     "name": "stdout",
     "output_type": "stream",
     "text": [
      "Jan    100\n",
      "Feb    200\n",
      "Mar    300\n",
      "dtype: int64\n"
     ]
    }
   ],
   "source": [
    "#ceate series-labelled column of data\n",
    "s=pd.Series([100, 200, 300],index = ['Jan','Feb','Mar'])\n",
    "print(s)\n",
    "#series=1D labeled array\n",
    "#index=labels for each value(row labels)"
   ]
  },
  {
   "cell_type": "code",
   "execution_count": null,
   "id": "6e6dbfee",
   "metadata": {},
   "outputs": [
    {
     "name": "stdout",
     "output_type": "stream",
     "text": [
      "  Month  Sales  Expenses\n",
      "0   Jan    100        80\n",
      "1   Feb    200       150\n",
      "2   Mar    300       250\n"
     ]
    }
   ],
   "source": [
    "#create dataframe-a full table with rows and columns\n",
    "data={\n",
    "    'Month':['Jan','Feb','Mar'],\n",
    "    'Sales':[100,200,300],\n",
    "    'Expenses':[80,150,250]\n",
    "}\n",
    "\n",
    "df=pd.DataFrame(data)\n",
    "print(df)\n",
    "\n",
    "#DataFrame is 2D labeled data structure with columns and rows\n",
    "#keys of dictionary become column names\n",
    "#lists become rows"
   ]
  },
  {
   "cell_type": "code",
   "execution_count": null,
   "id": "1e82d034",
   "metadata": {},
   "outputs": [],
   "source": [
    "#load data from csv file\n",
    "df=pd.read_csv('data/sales.csv'))\n",
    "\n",
    "\n",
    "#read_csv reads csv file\n",
    "#data/sales.csv is the path to file\n",
    "\n",
    "#alternatives for specificity   \n",
    "df.head() #first 5 rows\n",
    "df.tail() #last 5 rows\n",
    "df.info() #summary of dataframe\n",
    "df.describe() #statistical summary of numerical columns eg mean, std. min, max\n"
   ]
  },
  {
   "cell_type": "code",
   "execution_count": null,
   "id": "c937c7a7",
   "metadata": {},
   "outputs": [],
   "source": [
    "#select columns and rows\n",
    "df['Sales'] #returns a series\n",
    "\n",
    "#select multiple columns\n",
    "df[['Sales','Expenses']] #returns a dataframe\n",
    "\n",
    "#select rows by index position\n",
    "df.iloc[0] #first row by posistion\n",
    "df.loc[0] #first row by label\n",
    "  #iloc-index location by number\n",
    "  #loc-label location by name"
   ]
  },
  {
   "cell_type": "code",
   "execution_count": null,
   "id": "9515181c",
   "metadata": {},
   "outputs": [],
   "source": [
    "#filter and slice\n",
    " #filter rows\n",
    "df[df['Sales']>150] #rows where sales>150\n",
    " #slice rows\n",
    "df[1:3] #rowa 1 and 2\n"
   ]
  },
  {
   "cell_type": "code",
   "execution_count": 6,
   "id": "49fab1a2",
   "metadata": {},
   "outputs": [
    {
     "data": {
      "text/html": [
       "<div>\n",
       "<style scoped>\n",
       "    .dataframe tbody tr th:only-of-type {\n",
       "        vertical-align: middle;\n",
       "    }\n",
       "\n",
       "    .dataframe tbody tr th {\n",
       "        vertical-align: top;\n",
       "    }\n",
       "\n",
       "    .dataframe thead th {\n",
       "        text-align: right;\n",
       "    }\n",
       "</style>\n",
       "<table border=\"1\" class=\"dataframe\">\n",
       "  <thead>\n",
       "    <tr style=\"text-align: right;\">\n",
       "      <th></th>\n",
       "      <th>Month</th>\n",
       "      <th>Revenue</th>\n",
       "      <th>Expenses</th>\n",
       "      <th>Profit</th>\n",
       "    </tr>\n",
       "  </thead>\n",
       "  <tbody>\n",
       "    <tr>\n",
       "      <th>1</th>\n",
       "      <td>Feb</td>\n",
       "      <td>1500</td>\n",
       "      <td>700</td>\n",
       "      <td>800</td>\n",
       "    </tr>\n",
       "    <tr>\n",
       "      <th>2</th>\n",
       "      <td>Mar</td>\n",
       "      <td>1700</td>\n",
       "      <td>900</td>\n",
       "      <td>800</td>\n",
       "    </tr>\n",
       "    <tr>\n",
       "      <th>3</th>\n",
       "      <td>Apr</td>\n",
       "      <td>1600</td>\n",
       "      <td>850</td>\n",
       "      <td>750</td>\n",
       "    </tr>\n",
       "    <tr>\n",
       "      <th>4</th>\n",
       "      <td>May</td>\n",
       "      <td>1800</td>\n",
       "      <td>950</td>\n",
       "      <td>850</td>\n",
       "    </tr>\n",
       "  </tbody>\n",
       "</table>\n",
       "</div>"
      ],
      "text/plain": [
       "  Month  Revenue  Expenses  Profit\n",
       "1   Feb     1500       700     800\n",
       "2   Mar     1700       900     800\n",
       "3   Apr     1600       850     750\n",
       "4   May     1800       950     850"
      ]
     },
     "execution_count": 6,
     "metadata": {},
     "output_type": "execute_result"
    }
   ],
   "source": [
    "#mini challenge-create dataframe for monthly revenue and expenses\n",
    "data={\n",
    "    'Month':['Jan','Feb','Mar','Apr','May'],\n",
    "    'Revenue':[1200,1500,1700,1600,1800],\n",
    "    'Expenses':[800,700,900,850,950]\n",
    "}\n",
    "df=pd.DataFrame(data)\n",
    "\n",
    "df['Profit']=df['Revenue']-df['Expenses']\n",
    "df[df['Profit']>600]"
   ]
  },
  {
   "cell_type": "code",
   "execution_count": null,
   "id": "bd5245f9",
   "metadata": {},
   "outputs": [],
   "source": [
    "#to inspect for neatness\n",
    "df.isnull() .sum() #count of missing values in each column\n",
    "df.dtypes #data types of each column\n",
    "df.columns #list of column names    "
   ]
  }
 ],
 "metadata": {
  "kernelspec": {
   "display_name": "Python 3",
   "language": "python",
   "name": "python3"
  },
  "language_info": {
   "codemirror_mode": {
    "name": "ipython",
    "version": 3
   },
   "file_extension": ".py",
   "mimetype": "text/x-python",
   "name": "python",
   "nbconvert_exporter": "python",
   "pygments_lexer": "ipython3",
   "version": "3.13.7"
  }
 },
 "nbformat": 4,
 "nbformat_minor": 5
}
